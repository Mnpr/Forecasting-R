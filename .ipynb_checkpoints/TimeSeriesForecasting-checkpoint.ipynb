{
 "cells": [
  {
   "cell_type": "markdown",
   "metadata": {},
   "source": [
    "# Time Series Forecasting\n",
    "\n",
    "## Classical `ts` Forecasting Methods\n",
    "1. Autoregression (AR)\n",
    "2.  Moving Average (MA)\n",
    "3. Autoregressive Moving Average (ARMA)\n",
    "4. Autoregressive Integrated Moving Average (ARIMA)\n",
    "5. Seasonal Autoregressive Integrated Moving-Average (SARIMA)\n",
    "6. Seasonal Autoregressive Integrated Moving-Average with Exogenous Regressors (SARIMAX)\n",
    "7. Vector Autoregression (VAR)\n",
    "8. Vector Autoregression Moving-Average (VARMA)\n",
    "9. Vector Autoregression Moving-Average with Exogenous Regressors (VARMAX)\n",
    "10. Simple Exponential Smoothing (SES)\n",
    "11. Holt Winter’s Exponential Smoothing (HWES)\n",
    "\n",
    "### 1. Autoregression(AR)\n",
    "\n",
    "- Models the next step in the sequence as a linear function of the observations at prior time steps.\n",
    "- Suitable for univariate time series without trend and seasonal components.\n",
    "- $AR(p)$, Where p = order of the model | e.g. $AR(1)$ -> First-order autoregression model"
   ]
  },
  {
   "cell_type": "code",
   "execution_count": 27,
   "metadata": {},
   "outputs": [
    {
     "name": "stdout",
     "output_type": "stream",
     "text": [
      "[100.59124484]\n"
     ]
    }
   ],
   "source": [
    "from statsmodels.tsa.ar_model import AutoReg\n",
    "# https://www.statsmodels.org/stable/generated/statsmodels.tsa.ar_model.AutoReg.html\n",
    "from random import random\n",
    "\n",
    "# Random dataset\n",
    "data = [x + random() for x in range(1, 100)]\n",
    "\n",
    "# fit model\n",
    "model = AutoReg(data, lags=1)\n",
    "model_fit = model.fit()\n",
    "\n",
    "# make prediction\n",
    "yhat = model_fit.predict(len(data), len(data))\n",
    "print(yhat)"
   ]
  },
  {
   "cell_type": "markdown",
   "metadata": {},
   "source": [
    "### 2. Moving Average\n",
    "\n",
    "- Models the next step in the sequence as a linear function of the residual errors from a mean process at prior time steps. \n",
    "- Suitable for univariate time series without trend and seasonal components.\n",
    "- $MA(q)$, Where q = order of the model | e.g. $MA(1)$ -> First-order moving average model\n",
    "\n",
    "*Note: A moving average model is different from calculating the moving average of the time series.*"
   ]
  },
  {
   "cell_type": "code",
   "execution_count": 28,
   "metadata": {},
   "outputs": [
    {
     "name": "stdout",
     "output_type": "stream",
     "text": [
      "[73.62811228]\n"
     ]
    }
   ],
   "source": [
    "from statsmodels.tsa.arima_model import ARMA\n",
    "# http://www.statsmodels.org/dev/generated/statsmodels.tsa.arima_model.ARMA.html\n",
    "from random import random\n",
    "\n",
    "data = [x + random() for x in range(1, 100)]\n",
    "model = ARMA(data, order=(0, 1)) # order of MA model $O^{th}$ Order AR model\n",
    "model_fit = model.fit(disp=False)\n",
    "yhat = model_fit.predict(len(data), len(data))\n",
    "\n",
    "print(yhat)"
   ]
  },
  {
   "cell_type": "markdown",
   "metadata": {},
   "source": [
    "### 3. Autoregressive Moving Average(ARMA)\n",
    "\n",
    "- Models the next step in the sequence as a linear function of the observations and residual errors at prior time steps.\n",
    "- Autoregression (AR) + Moving Average (MA)\n",
    "- $ARMA(p,q)$, where p,q are the oders of AR amd MA models respectively\n",
    "- can be used to develop AR or MA models.\n",
    "- Suitable for univariate time series without trend and seasonal components."
   ]
  },
  {
   "cell_type": "code",
   "execution_count": 32,
   "metadata": {},
   "outputs": [
    {
     "name": "stdout",
     "output_type": "stream",
     "text": [
      "[0.50172269]\n"
     ]
    }
   ],
   "source": [
    "from statsmodels.tsa.arima_model import ARMA\n",
    "# http://www.statsmodels.org/dev/generated/statsmodels.tsa.arima_model.ARMA.html\n",
    "from random import random\n",
    "\n",
    "data = [random() for x in range(1, 100)]\n",
    "model = ARMA(data, order=(2, 1))\n",
    "model_fit = model.fit(disp=False)\n",
    "yhat = model_fit.predict(len(data), len(data))\n",
    "\n",
    "print(yhat)"
   ]
  },
  {
   "cell_type": "markdown",
   "metadata": {},
   "source": [
    "### 4. Autoregressive Integrated Moving Average (ARIMA)\n",
    "- Models the next step in the sequence as a linear function of the differenced observations and residual errors at prior time steps.\n",
    "- Combines AR, MA and a differencing pre-processing step(Integration) of the sequence to make the sequence stationary.\n",
    "- $AR(p), I(d), and MA(q) => ARIMA(p,d,q)$\n",
    "- Can be used to develop AR, MA, and ARMA models.\n",
    "- Suitable for univariate time series with trend and without seasonal components."
   ]
  },
  {
   "cell_type": "code",
   "execution_count": 37,
   "metadata": {},
   "outputs": [
    {
     "name": "stdout",
     "output_type": "stream",
     "text": [
      "[100.39536617]\n"
     ]
    }
   ],
   "source": [
    "from statsmodels.tsa.arima_model import ARIMA\n",
    "# http://www.statsmodels.org/dev/generated/statsmodels.tsa.arima_model.ARIMA.html#statsmodels.tsa.arima_model.ARIMA\n",
    "from random import random\n",
    "\n",
    "data = [x + random() for x in range(1, 100)]\n",
    "model = ARIMA(data, order=(1, 1, 1))\n",
    "model_fit = model.fit(disp=False)\n",
    "yhat = model_fit.predict(len(data), len(data), typ='levels')\n",
    "\n",
    "print(yhat)"
   ]
  },
  {
   "cell_type": "markdown",
   "metadata": {},
   "source": [
    "### 5. Seasonal Autoregressive Integrated Moving-Average (SARIMA)\n",
    "\n",
    "- Models the next step in the sequence as a linear function of the differenced observations, errors, differenced seasonal observations, and seasonal errors at prior time steps.\n",
    "- $AR(p), I(d), and MA(q)$ : model Parameter to ARMA and $AR(P), I(D), MA(Q) and m$ at the seasonal level => $SARIMA(p, d, q)(P, D, Q)m$\n",
    "- Suitable for univariate time series with trend and/or seasonal components."
   ]
  },
  {
   "cell_type": "code",
   "execution_count": 42,
   "metadata": {},
   "outputs": [
    {
     "name": "stdout",
     "output_type": "stream",
     "text": [
      "[100.47303773]\n"
     ]
    }
   ],
   "source": [
    "from statsmodels.tsa.statespace.sarimax import SARIMAX\n",
    "# http://www.statsmodels.org/dev/generated/statsmodels.tsa.statespace.sarimax.SARIMAX.html\n",
    "from random import random\n",
    "\n",
    "data = [x + random() for x in range(1, 100)]\n",
    "model = SARIMAX(data, order=(1, 1, 1), seasonal_order=(1, 1, 1, 4)) # 4-periodicity: quarterly\n",
    "model_fit = model.fit(disp=False)\n",
    "yhat = model_fit.predict(len(data), len(data))\n",
    "\n",
    "print(yhat)"
   ]
  },
  {
   "cell_type": "markdown",
   "metadata": {},
   "source": [
    "### 6. Seasonal Autoregressive Integrated Moving-Average with Exogenous Regressors (SARIMAX)\n",
    "- Extension of the SARIMA model that also includes the modeling of exogenous variables.\n",
    "- Exogenous variables, also called covariates can be thought of as parallel input sequences that have observations at the same time steps as the original series.\n",
    "- The primary series may be referred to as endogenous data to contrast it from the exogenous sequence(s). \n",
    "- The observations for exogenous variables are included in the model directly at each time step and are not modeled in the same way as the primary endogenous sequence (e.g. as an AR, MA, etc. process).\n",
    "- Can also be used to model the subsumed models with exogenous variables, such as ARX, MAX, ARMAX, and ARIMAX.\n",
    "- Suitable for univariate time series with trend and/or seasonal components and exogenous variables."
   ]
  },
  {
   "cell_type": "code",
   "execution_count": 43,
   "metadata": {},
   "outputs": [
    {
     "name": "stdout",
     "output_type": "stream",
     "text": [
      "[100.2015823]\n"
     ]
    }
   ],
   "source": [
    "from statsmodels.tsa.statespace.sarimax import SARIMAX\n",
    "# http://www.statsmodels.org/dev/generated/statsmodels.tsa.statespace.sarimax.SARIMAX.html\n",
    "from random import random\n",
    "\n",
    "data1 = [x + random() for x in range(1, 100)]\n",
    "data2 = [x + random() for x in range(101, 200)]\n",
    "\n",
    "model = SARIMAX(data1, exog=data2, order=(1, 1, 1), seasonal_order=(0, 0, 0, 0))\n",
    "model_fit = model.fit(disp=False)\n",
    "\n",
    "exog2 = [200 + random()]\n",
    "yhat = model_fit.predict(len(data1), len(data1), exog=[exog2])\n",
    "\n",
    "print(yhat)"
   ]
  },
  {
   "cell_type": "markdown",
   "metadata": {},
   "source": [
    "### 7. Vector Autoregression (VAR)\n",
    "\n",
    "- Models the next step in each time series using an AR model. It is the generalization of AR to multiple parallel time series, e.g. multivariate time series.\n",
    "- $VAR(p).$ - order of the AR(p) model.\n",
    "- Suitable for multivariate time series without trend and seasonal components."
   ]
  },
  {
   "cell_type": "code",
   "execution_count": 55,
   "metadata": {},
   "outputs": [
    {
     "name": "stdout",
     "output_type": "stream",
     "text": [
      "[[100.00336616 100.32829335]]\n"
     ]
    }
   ],
   "source": [
    "from statsmodels.tsa.vector_ar.var_model import VAR\n",
    "# http://www.statsmodels.org/dev/generated/statsmodels.tsa.vector_ar.var_model.VAR.html\n",
    "from random import random\n",
    "\n",
    "data = list() #List of List\n",
    "for i in range(100):\n",
    "    v1 = i + random()\n",
    "    v2 = v1 + random()\n",
    "    row = [v1, v2]\n",
    "    data.append(row)\n",
    "    \n",
    "model = VAR(data)\n",
    "model_fit = model.fit()\n",
    "\n",
    "yhat = model_fit.forecast(model_fit.y, steps=1)\n",
    "print(yhat)"
   ]
  },
  {
   "cell_type": "markdown",
   "metadata": {},
   "source": [
    "### 8. Vector Autoregression Moving-Average (VARMA)\n",
    "\n",
    "- Models the next step in each time series using an ARMA model. It is the generalization of ARMA to multiple parallel time series, e.g. multivariate time series.\n",
    "- $ VARMA(p, q)$ - AR(p) and MA(q) models as parameters to a VARMA function\n",
    "- Suitable for multivariate time series without trend and seasonal components."
   ]
  },
  {
   "cell_type": "code",
   "execution_count": 57,
   "metadata": {},
   "outputs": [
    {
     "name": "stderr",
     "output_type": "stream",
     "text": [
      "/home/mnpr_term/miniconda3/lib/python3.8/site-packages/statsmodels/tsa/statespace/varmax.py:161: EstimationWarning: Estimation of VARMA(p,q) models is not generically robust, due especially to identification issues.\n",
      "  warn('Estimation of VARMA(p,q) models is not generically robust,'\n"
     ]
    },
    {
     "name": "stdout",
     "output_type": "stream",
     "text": [
      "[[0.46500538 0.96082442]]\n"
     ]
    },
    {
     "name": "stderr",
     "output_type": "stream",
     "text": [
      "/home/mnpr_term/miniconda3/lib/python3.8/site-packages/statsmodels/base/model.py:567: ConvergenceWarning: Maximum Likelihood optimization failed to converge. Check mle_retvals\n",
      "  warn(\"Maximum Likelihood optimization failed to converge. \"\n",
      "/home/mnpr_term/miniconda3/lib/python3.8/site-packages/statsmodels/tsa/statespace/varmax.py:161: EstimationWarning: Estimation of VARMA(p,q) models is not generically robust, due especially to identification issues.\n",
      "  warn('Estimation of VARMA(p,q) models is not generically robust,'\n"
     ]
    }
   ],
   "source": [
    "from statsmodels.tsa.statespace.varmax import VARMAX\n",
    "# http://www.statsmodels.org/dev/generated/statsmodels.tsa.statespace.varmax.VARMAX.html\n",
    "from random import random\n",
    "\n",
    "# Random dataset with dependency\n",
    "data = list()\n",
    "for i in range(100):\n",
    "    v1 = random()\n",
    "    v2 = v1 + random()\n",
    "    row = [v1, v2]\n",
    "    data.append(row)\n",
    "    \n",
    "model = VARMAX(data, order=(1, 1))\n",
    "model_fit = model.fit(disp=False)\n",
    "\n",
    "\n",
    "\n",
    "yhat = model_fit.forecast()\n",
    "print(yhat)"
   ]
  },
  {
   "cell_type": "markdown",
   "metadata": {},
   "source": [
    "### 9. Vector Autoregression Moving-Average with Exogenous Regressors (VARMAX)\n",
    "\n",
    "- It is an extension of the VARMA model that also includes the modeling of exogenous variables. It is a multivariate version of the ARMAX method.\n",
    "\n",
    "- Can also be used to model the subsumed models with exogenous variables, such as VARX and VMAX.\n",
    "\n",
    "> Exogenous variables are also called covariates and can be thought of as parallel input sequences that have observations at the same time steps as the original series. The primary series(es) are referred to as endogenous data to contrast it from the exogenous sequence(s). The observations for exogenous variables are included in the model directly at each time step and are not modeled in the same way as the primary endogenous sequence (e.g. as an AR, MA, etc. process).\n",
    "\n",
    "- Suitable for multivariate time series without trend and seasonal components with exogenous variables."
   ]
  },
  {
   "cell_type": "code",
   "execution_count": 60,
   "metadata": {},
   "outputs": [
    {
     "name": "stderr",
     "output_type": "stream",
     "text": [
      "/home/mnpr_term/miniconda3/lib/python3.8/site-packages/statsmodels/tsa/statespace/varmax.py:161: EstimationWarning: Estimation of VARMA(p,q) models is not generically robust, due especially to identification issues.\n",
      "  warn('Estimation of VARMA(p,q) models is not generically robust,'\n"
     ]
    },
    {
     "name": "stdout",
     "output_type": "stream",
     "text": [
      "[[0.5145025  1.00993871]]\n"
     ]
    },
    {
     "name": "stderr",
     "output_type": "stream",
     "text": [
      "/home/mnpr_term/miniconda3/lib/python3.8/site-packages/statsmodels/base/model.py:567: ConvergenceWarning: Maximum Likelihood optimization failed to converge. Check mle_retvals\n",
      "  warn(\"Maximum Likelihood optimization failed to converge. \"\n",
      "/home/mnpr_term/miniconda3/lib/python3.8/site-packages/statsmodels/tsa/statespace/varmax.py:161: EstimationWarning: Estimation of VARMA(p,q) models is not generically robust, due especially to identification issues.\n",
      "  warn('Estimation of VARMA(p,q) models is not generically robust,'\n",
      "/home/mnpr_term/miniconda3/lib/python3.8/site-packages/statsmodels/tsa/statespace/varmax.py:161: EstimationWarning: Estimation of VARMA(p,q) models is not generically robust, due especially to identification issues.\n",
      "  warn('Estimation of VARMA(p,q) models is not generically robust,'\n"
     ]
    }
   ],
   "source": [
    "from statsmodels.tsa.statespace.varmax import VARMAX\n",
    "# http://www.statsmodels.org/dev/generated/statsmodels.tsa.statespace.varmax.VARMAX.html\n",
    "from random import random\n",
    "\n",
    "data = list()\n",
    "for i in range(100):\n",
    "    v1 = random()\n",
    "    v2 = v1 + random()\n",
    "    row = [v1, v2]\n",
    "    data.append(row)\n",
    "data_exog = [x + random() for x in range(100)]\n",
    "\n",
    "model = VARMAX(data, exog=data_exog, order=(1, 1))\n",
    "model_fit = model.fit(disp=False)\n",
    "\n",
    "data_exog2 = [[100]]\n",
    "\n",
    "yhat = model_fit.forecast(exog=data_exog2)\n",
    "print(yhat)"
   ]
  },
  {
   "cell_type": "markdown",
   "metadata": {},
   "source": [
    "### 10. Simple Exponential Smoothing (SES)\n",
    "\n",
    "- Models the next time step as an exponentially weighted linear function of observations at prior time steps.\n",
    "- Suitable for univariate time series without trend and seasonal components."
   ]
  },
  {
   "cell_type": "code",
   "execution_count": 61,
   "metadata": {},
   "outputs": [
    {
     "name": "stdout",
     "output_type": "stream",
     "text": [
      "[99.08558003]\n"
     ]
    }
   ],
   "source": [
    "from statsmodels.tsa.holtwinters import SimpleExpSmoothing\n",
    "# http://www.statsmodels.org/dev/generated/statsmodels.tsa.holtwinters.SimpleExpSmoothing.html\n",
    "from random import random\n",
    "\n",
    "data = [x + random() for x in range(1, 100)]\n",
    "\n",
    "model = SimpleExpSmoothing(data)\n",
    "model_fit = model.fit()\n",
    "\n",
    "yhat = model_fit.predict(len(data), len(data))\n",
    "print(yhat)"
   ]
  },
  {
   "cell_type": "markdown",
   "metadata": {},
   "source": [
    "### 11. Holt Winter’s Exponential Smoothing (HWES)\n",
    "\n",
    "- Also called the Triple Exponential Smoothing method models the next time step as an exponentially weighted linear function of observations at prior time steps, taking trends and seasonality into account.\n",
    "- Suitable for univariate time series with trend and/or seasonal components."
   ]
  },
  {
   "cell_type": "code",
   "execution_count": 62,
   "metadata": {},
   "outputs": [
    {
     "name": "stdout",
     "output_type": "stream",
     "text": [
      "[99.82015653]\n"
     ]
    }
   ],
   "source": [
    "from statsmodels.tsa.holtwinters import ExponentialSmoothing\n",
    "# http://www.statsmodels.org/dev/generated/statsmodels.tsa.holtwinters.ExponentialSmoothing.html\n",
    "from random import random\n",
    "\n",
    "data = [x + random() for x in range(1, 100)]\n",
    "\n",
    "model = ExponentialSmoothing(data)\n",
    "model_fit = model.fit()\n",
    "\n",
    "yhat = model_fit.predict(len(data), len(data))\n",
    "print(yhat)"
   ]
  },
  {
   "cell_type": "markdown",
   "metadata": {},
   "source": [
    "***"
   ]
  }
 ],
 "metadata": {
  "kernelspec": {
   "display_name": "Python 3",
   "language": "python",
   "name": "python3"
  },
  "language_info": {
   "codemirror_mode": {
    "name": "ipython",
    "version": 3
   },
   "file_extension": ".py",
   "mimetype": "text/x-python",
   "name": "python",
   "nbconvert_exporter": "python",
   "pygments_lexer": "ipython3",
   "version": "3.8.5"
  }
 },
 "nbformat": 4,
 "nbformat_minor": 4
}
